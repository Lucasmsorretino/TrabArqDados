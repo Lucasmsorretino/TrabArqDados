{
  "cells": [
    {
      "cell_type": "markdown",
      "metadata": {
        "id": "view-in-github",
        "colab_type": "text"
      },
      "source": [
        "<a href=\"https://colab.research.google.com/github/Lucasmsorretino/TrabArqDados/blob/atividade_2_cogumelo/trab2_mushroom.ipynb\" target=\"_parent\"><img src=\"https://colab.research.google.com/assets/colab-badge.svg\" alt=\"Open In Colab\"/></a>"
      ]
    },
    {
      "metadata": {
        "id": "1e0c5d1e13cc97f3"
      },
      "cell_type": "markdown",
      "source": [
        "# Atividade 02 - melhorar o desempenho de RP em conjunto de dados existentes\n",
        "\n",
        "A atividade 02 visa trabalhar com um conjunto de dados pré-construído, onde as opções que o desenvolvedor tem, são de aplicar as técnicas de pré-processamento abaixo relacionadas:\n"
      ],
      "id": "1e0c5d1e13cc97f3"
    },
    {
      "metadata": {
        "id": "5455a7e7d70fe5b8"
      },
      "cell_type": "markdown",
      "source": [
        "Base de dados escolhida: Secondary Mushroom\n",
        "Link: https://archive.ics.uci.edu/dataset/848/secondary+mushroom+dataset\n",
        "\n",
        "Sobre a base de dados:\n",
        "\n",
        "Esta base de dados foi criada com a finalidade de simular e fornecer um conjunto de dados maior e mais variado de cogumelos hipotéticos para tarefas de aprendizado de máquina e análise de dados, inspirado não Conjunto de Dados de Cogumelos original de J. Schlimmer.\n",
        "\n",
        "url:https://archive.ics.uci.edu/ml/datasets/Mushroom.\n",
        "\n",
        "Este conjunto de dados inclui 61069 cogumelos hipotéticos com Píleo (chapéus do cogumelo) baseado em 173 espécies (353 cogumelos por espécie). Cada cogumelo é identificado como definitivamente comestível, definitivamente venenoso ou com classificação duvidosa e não recomendado para consumo (esta última classe combinada com a classe de cogumelos venenosos)."
      ],
      "id": "5455a7e7d70fe5b8"
    },
    {
      "metadata": {
        "id": "2303774e79983552"
      },
      "cell_type": "markdown",
      "source": [
        "Descrição dos dados:\n",
        "\n",
        "| Variável             | Papel     | Tipo       | Descrição                         | Unidade | Valores ausentes |\n",
        "|----------------------|-----------|------------|-----------------------------------|---------|------------------|\n",
        "| class                | Classe    | Categórico | Target (p venenoso, e comestível) | -       | não              |\n",
        "| cap-diameter         | Atributo  | Contínuo   | diâmetro do píleo                 | cm      | não              |\n",
        "| cap-shape            | Atributo  | Categórico | formato do píleo                  | -       | não              |\n",
        "| cap-surface          | Atributo  | Categórico | superfície do píleo               | -       | sim              |\n",
        "| cap-color            | Atributo  | Categórico | cor do píleo                      | -       | não              |\n",
        "| does-bruise-or-bleed | Atributo  | Categórico | cogumelo machuca ou sangra        | -       | não              |\n",
        "| gill-attachment      | Atributo  | Categórico | posição da lamela                 | -       | sim              |\n",
        "| gill-spacing         | Atributo  | Categórico | espaçamento da lamela             | -       | sim              |\n",
        "| gill-color           | Atributo  | Categórico | cor da lamela                     | -       | não              |\n",
        "| stem-height          | Atributo | Contínuo   | altura da haste                   | cm      | não              |\n",
        "| stem-width           | Atributo | Contínuo | largura da haste                  | mm      | não              |\n",
        "| stem-root            | Atributo | Categórico | tipo de raíz                      | -       | sim              |\n",
        "| stem-surface         | Atributo | Categórico | superfície da haste               | -       | sim              |\n",
        "| stem-color           | Atributo | Categórico | cor da haste                      | -       | não              |\n",
        "| veil-type            | Atributo | Categórico | tipo de véu                       | -       | sim              |\n",
        "| veil-color           | Atributo | Categórico | cor do véu                        | -       | sim              |\n",
        "| has-ring             | Atributo | Categórico | possuie anel                      | -       | não              |\n",
        "| ring-type            | Atributo | Categórico | tipo de anel                      | -       | sim              |\n",
        "| spore-print-color    | Atributo | Categórico | cor da marca de esporos           | -       | sim              |\n",
        "| habitat              | Atributo | Categórico | habitat (onde cresce)             | -       | não              |\n",
        "| season               | Atributo | Categórico | estação do ano                    | -       | não              |"
      ],
      "id": "2303774e79983552"
    },
    {
      "cell_type": "code",
      "source": [
        "# execute pip install ucimlrepo no terminal para instalar o pacote da uci e baixar os dados.\n",
        "import pandas as pd\n",
        "from ucimlrepo import fetch_ucirepo\n",
        "from sklearn.model_selection import train_test_split\n",
        "from sklearn import svm\n",
        "from sklearn.metrics import confusion_matrix\n",
        "from sklearn.metrics import classification_report\n",
        "from sklearn.preprocessing import StandardScaler, MinMaxScaler\n",
        "import matplotlib.pyplot as plt\n",
        "import seaborn as sns"
      ],
      "metadata": {
        "id": "MmSMT-2ss1YU"
      },
      "id": "MmSMT-2ss1YU",
      "execution_count": 37,
      "outputs": []
    },
    {
      "cell_type": "code",
      "id": "initial_id",
      "metadata": {
        "collapsed": true,
        "ExecuteTime": {
          "end_time": "2025-06-19T23:07:43.625496Z",
          "start_time": "2025-06-19T23:06:41.153582Z"
        },
        "colab": {
          "base_uri": "https://localhost:8080/"
        },
        "id": "initial_id",
        "outputId": "c20c17ce-ea38-43c6-eefd-bdf57e5aa400"
      },
      "source": [
        "# fetch dataset\n",
        "secondary_mushroom = fetch_ucirepo(id=848)\n",
        "\n",
        "# data (as pandas dataframes)\n",
        "X = secondary_mushroom.data.features\n",
        "y = secondary_mushroom.data.targets\n",
        "\n",
        "print(secondary_mushroom.data.original.head())"
      ],
      "outputs": [
        {
          "output_type": "stream",
          "name": "stdout",
          "text": [
            "  class  cap-diameter cap-shape cap-surface cap-color does-bruise-or-bleed  \\\n",
            "0     p         15.26         x           g         o                    f   \n",
            "1     p         16.60         x           g         o                    f   \n",
            "2     p         14.07         x           g         o                    f   \n",
            "3     p         14.17         f           h         e                    f   \n",
            "4     p         14.64         x           h         o                    f   \n",
            "\n",
            "  gill-attachment gill-spacing gill-color  stem-height  ...  stem-root  \\\n",
            "0               e          NaN          w        16.95  ...          s   \n",
            "1               e          NaN          w        17.99  ...          s   \n",
            "2               e          NaN          w        17.80  ...          s   \n",
            "3               e          NaN          w        15.77  ...          s   \n",
            "4               e          NaN          w        16.53  ...          s   \n",
            "\n",
            "  stem-surface stem-color veil-type veil-color has-ring ring-type  \\\n",
            "0            y          w         u          w        t         g   \n",
            "1            y          w         u          w        t         g   \n",
            "2            y          w         u          w        t         g   \n",
            "3            y          w         u          w        t         p   \n",
            "4            y          w         u          w        t         p   \n",
            "\n",
            "  spore-print-color habitat season  \n",
            "0               NaN       d      w  \n",
            "1               NaN       d      u  \n",
            "2               NaN       d      w  \n",
            "3               NaN       d      w  \n",
            "4               NaN       d      w  \n",
            "\n",
            "[5 rows x 21 columns]\n"
          ]
        }
      ],
      "execution_count": 11
    },
    {
      "metadata": {
        "ExecuteTime": {
          "end_time": "2025-06-19T23:07:59.282882Z",
          "start_time": "2025-06-19T23:07:58.631213Z"
        },
        "colab": {
          "base_uri": "https://localhost:8080/",
          "height": 178
        },
        "id": "68bbba12e39bdfd0",
        "outputId": "768034cb-2a26-4e0a-fb45-89f3fa97bda5"
      },
      "cell_type": "code",
      "source": [
        "len(secondary_mushroom.data.original)\n",
        "# Vai precisar:\n",
        "# codificação\n",
        "# limpeza ?\n",
        "# normalização maybe\n",
        "# coreeção de prevaência, 27k de comestivel contra 33 de venenoso\n",
        "y.value_counts()"
      ],
      "id": "68bbba12e39bdfd0",
      "outputs": [
        {
          "output_type": "execute_result",
          "data": {
            "text/plain": [
              "class\n",
              "p        33888\n",
              "e        27181\n",
              "Name: count, dtype: int64"
            ],
            "text/html": [
              "<div>\n",
              "<style scoped>\n",
              "    .dataframe tbody tr th:only-of-type {\n",
              "        vertical-align: middle;\n",
              "    }\n",
              "\n",
              "    .dataframe tbody tr th {\n",
              "        vertical-align: top;\n",
              "    }\n",
              "\n",
              "    .dataframe thead th {\n",
              "        text-align: right;\n",
              "    }\n",
              "</style>\n",
              "<table border=\"1\" class=\"dataframe\">\n",
              "  <thead>\n",
              "    <tr style=\"text-align: right;\">\n",
              "      <th></th>\n",
              "      <th>count</th>\n",
              "    </tr>\n",
              "    <tr>\n",
              "      <th>class</th>\n",
              "      <th></th>\n",
              "    </tr>\n",
              "  </thead>\n",
              "  <tbody>\n",
              "    <tr>\n",
              "      <th>p</th>\n",
              "      <td>33888</td>\n",
              "    </tr>\n",
              "    <tr>\n",
              "      <th>e</th>\n",
              "      <td>27181</td>\n",
              "    </tr>\n",
              "  </tbody>\n",
              "</table>\n",
              "</div><br><label><b>dtype:</b> int64</label>"
            ]
          },
          "metadata": {},
          "execution_count": 3
        }
      ],
      "execution_count": 3
    },
    {
      "metadata": {
        "id": "287284d36487c0c7"
      },
      "cell_type": "markdown",
      "source": [
        "## Considerações sobre a característica dos dados:\n",
        "\n",
        "* A grande maioria dos atributos são do tipo nominal. Logo será necessário aplicar a técnica de codificação para usar em algorítmos de ML tais como o SVM.\n",
        "* Alguns atributos possuem valores faltantes em uma proporção significativa. Nos casos em que a quantidade excede os 40%, adotaremos uma estratégia para eliminar a feature do modelo. Segue abaixo a taxa de proporção de dados faltantes para os atributos marcados como portadores de NaN."
      ],
      "id": "287284d36487c0c7"
    },
    {
      "metadata": {
        "ExecuteTime": {
          "end_time": "2025-06-19T23:09:17.459337Z",
          "start_time": "2025-06-19T23:09:17.212297Z"
        },
        "colab": {
          "base_uri": "https://localhost:8080/"
        },
        "id": "9f47c0db681960f9",
        "outputId": "4f2d4b1f-e0d6-4077-9413-dce0a12a62fd"
      },
      "cell_type": "code",
      "source": [
        "total_samples = X.shape[0]\n",
        "attributes_with_missing_values = ['cap-surface', 'gill-attachment', 'gill-spacing', 'stem-root', 'stem-surface', 'veil-type', 'veil-color', 'ring-type', 'spore-print-color']\n",
        "for attribute in attributes_with_missing_values:\n",
        "    print(f\"Attribute: {attribute} has {(X[attribute].isna().sum() / total_samples)*100:.2f}% missing values\")"
      ],
      "id": "9f47c0db681960f9",
      "outputs": [
        {
          "output_type": "stream",
          "name": "stdout",
          "text": [
            "Attribute: cap-surface has 23.12% missing values\n",
            "Attribute: gill-attachment has 16.18% missing values\n",
            "Attribute: gill-spacing has 41.04% missing values\n",
            "Attribute: stem-root has 84.39% missing values\n",
            "Attribute: stem-surface has 62.43% missing values\n",
            "Attribute: veil-type has 94.80% missing values\n",
            "Attribute: veil-color has 87.86% missing values\n",
            "Attribute: ring-type has 4.05% missing values\n",
            "Attribute: spore-print-color has 89.60% missing values\n"
          ]
        }
      ],
      "execution_count": 12
    },
    {
      "metadata": {
        "id": "2b2e33df07f8eaf7"
      },
      "cell_type": "markdown",
      "source": [
        "### Estratégia 1 - Eliminar atributos com taxa elevada de dados faltantes\n",
        "\n",
        "Neste caso, optamos por eliminar os seguintes atributos do modelo por entender que estes agregam pouca informação:\n",
        "1. veil-type\n",
        "2. veil-color\n",
        "3. spore-print-color\n",
        "4. stem-root\n",
        "5. stem-surface\n",
        "6. gill-spacing\n",
        "\n",
        "Como todos eles são nominais, fica um tanto complexo substituir por valores como média e mediana. Substituir estes pela moda ou valores aleatórios também não parece fazer sentido para estes atributos."
      ],
      "id": "2b2e33df07f8eaf7"
    },
    {
      "metadata": {
        "ExecuteTime": {
          "end_time": "2025-06-19T23:14:03.857438Z",
          "start_time": "2025-06-19T23:14:03.202495Z"
        },
        "id": "b4bd255b5de86880"
      },
      "cell_type": "code",
      "source": [
        "columns_to_drop = ['veil-type', 'veil-color', 'spore-print-color', 'stem-root', 'stem-surface', 'gill-spacing']\n",
        "cleaned_df = X.drop(columns=columns_to_drop)"
      ],
      "id": "b4bd255b5de86880",
      "outputs": [],
      "execution_count": 13
    },
    {
      "metadata": {
        "id": "337189109fde133"
      },
      "cell_type": "markdown",
      "source": [
        "## Estratégia 2 - Eliminar linhas com atributos faltantes\n",
        "\n",
        "Como o atributo ring-type possui dados faltantes em < 5% dos amostras, podemos eliminar as linhas que possuem esta coluna incompleta do modelo"
      ],
      "id": "337189109fde133"
    },
    {
      "metadata": {
        "ExecuteTime": {
          "end_time": "2025-06-19T23:31:57.394271Z",
          "start_time": "2025-06-19T23:31:57.033840Z"
        },
        "id": "c7352ee855dd435c"
      },
      "cell_type": "code",
      "source": [
        "lines_to_drop = cleaned_df[cleaned_df['ring-type'].isna()].index\n",
        "cleaned_df = cleaned_df.drop(lines_to_drop, axis=0)"
      ],
      "id": "c7352ee855dd435c",
      "outputs": [],
      "execution_count": 14
    },
    {
      "metadata": {
        "id": "9175ccadd20fcaa6"
      },
      "cell_type": "markdown",
      "source": [
        "## Estratégia 3 - Fazer inputação em atributos entre 15% e 25% de informações faltantes\n",
        "\n",
        "Agora que os atributos com excesso de dados faltantes foram eliminados e os registros com atributos ring-type faltantes foram eliminados, optamos por fazer a inputação de dados nos atributos cap-surface e gill-attachment, com 23% e 16% de valores ausentes respectivamente. Optamos por preencher os dados faltantes de cada atributo pela moda de cada um deles."
      ],
      "id": "9175ccadd20fcaa6"
    },
    {
      "metadata": {
        "ExecuteTime": {
          "end_time": "2025-06-19T23:53:21.422650Z",
          "start_time": "2025-06-19T23:53:21.093489Z"
        },
        "colab": {
          "base_uri": "https://localhost:8080/"
        },
        "id": "ea2872ac8e2ddf0b",
        "outputId": "5eef5f5f-64ed-4363-afca-335f461583e0"
      },
      "cell_type": "code",
      "source": [
        "mode_cap_surface = cleaned_df['cap-surface'].mode()\n",
        "mode_gill_attachment = cleaned_df['gill-attachment'].mode()\n",
        "print(f\"mode_cap_surface is unique? {len(mode_cap_surface) == 1}. Values is(are): {mode_cap_surface}\")\n",
        "print(f\"mode_gill_attachment is unique? {len(mode_gill_attachment) == 1}. Values is(are): {mode_gill_attachment}\")"
      ],
      "id": "ea2872ac8e2ddf0b",
      "outputs": [
        {
          "output_type": "stream",
          "name": "stdout",
          "text": [
            "mode_cap_surface is unique? True. Values is(are): 0    t\n",
            "Name: cap-surface, dtype: object\n",
            "mode_gill_attachment is unique? True. Values is(are): 0    a\n",
            "Name: gill-attachment, dtype: object\n"
          ]
        }
      ],
      "execution_count": 15
    },
    {
      "cell_type": "markdown",
      "source": [
        "As modas em ambas as colunas são únicas. ENtão fica mais fácil substituir as ocorrências de NaN com os valores obtidos (substituição única)."
      ],
      "metadata": {
        "id": "ERE-8_XNoxHx"
      },
      "id": "ERE-8_XNoxHx"
    },
    {
      "cell_type": "code",
      "source": [
        "cleaned_df['cap-surface'] = cleaned_df['cap-surface'].fillna('t')\n",
        "cleaned_df['gill-attachment'] = cleaned_df['gill-attachment'].fillna('a')"
      ],
      "metadata": {
        "id": "ta_oFHaZo-Tf"
      },
      "id": "ta_oFHaZo-Tf",
      "execution_count": 19,
      "outputs": []
    },
    {
      "cell_type": "markdown",
      "source": [
        "## Estratégia 4 - Codificação dos atributos nominais\n",
        "\n",
        "Agora que fizemos a limpeza dos dados, partimos para codificação dos atributos nominais. Usamos a codificação one-hot encoding pois os atributos não possuem uma ordenação, sendo cada valor uma classificação."
      ],
      "metadata": {
        "id": "5M-nxi4kr8YV"
      },
      "id": "5M-nxi4kr8YV"
    },
    {
      "cell_type": "code",
      "metadata": {
        "colab": {
          "base_uri": "https://localhost:8080/",
          "height": 346
        },
        "id": "5d2c2513",
        "outputId": "c78bc128-a2e4-4037-8f74-7f2ac5164a52"
      },
      "source": [
        "categorical_cols = cleaned_df.select_dtypes(include=['object']).columns\n",
        "print(\"Categorical columns to encode:\", categorical_cols)\n",
        "\n",
        "encoded_df = pd.get_dummies(cleaned_df, columns=categorical_cols, dummy_na=False)\n",
        "\n",
        "display(encoded_df.head())"
      ],
      "id": "5d2c2513",
      "execution_count": 21,
      "outputs": [
        {
          "output_type": "stream",
          "name": "stdout",
          "text": [
            "Categorical columns to encode: Index(['cap-shape', 'cap-surface', 'cap-color', 'does-bruise-or-bleed',\n",
            "       'gill-attachment', 'gill-color', 'stem-color', 'has-ring', 'ring-type',\n",
            "       'habitat', 'season'],\n",
            "      dtype='object')\n"
          ]
        },
        {
          "output_type": "display_data",
          "data": {
            "text/plain": [
              "   cap-diameter  stem-height  stem-width  cap-shape_b  cap-shape_c  \\\n",
              "0         15.26        16.95       17.09        False        False   \n",
              "1         16.60        17.99       18.19        False        False   \n",
              "2         14.07        17.80       17.74        False        False   \n",
              "3         14.17        15.77       15.98        False        False   \n",
              "4         14.64        16.53       17.20        False        False   \n",
              "\n",
              "   cap-shape_f  cap-shape_o  cap-shape_p  cap-shape_s  cap-shape_x  ...  \\\n",
              "0        False        False        False        False         True  ...   \n",
              "1        False        False        False        False         True  ...   \n",
              "2        False        False        False        False         True  ...   \n",
              "3         True        False        False        False        False  ...   \n",
              "4        False        False        False        False         True  ...   \n",
              "\n",
              "   habitat_h  habitat_l  habitat_m  habitat_p  habitat_u  habitat_w  season_a  \\\n",
              "0      False      False      False      False      False      False     False   \n",
              "1      False      False      False      False      False      False     False   \n",
              "2      False      False      False      False      False      False     False   \n",
              "3      False      False      False      False      False      False     False   \n",
              "4      False      False      False      False      False      False     False   \n",
              "\n",
              "   season_s  season_u  season_w  \n",
              "0     False     False      True  \n",
              "1     False      True     False  \n",
              "2     False     False      True  \n",
              "3     False     False      True  \n",
              "4     False     False      True  \n",
              "\n",
              "[5 rows x 89 columns]"
            ],
            "text/html": [
              "\n",
              "  <div id=\"df-9a2de691-a9e9-479c-83d3-59903b168b01\" class=\"colab-df-container\">\n",
              "    <div>\n",
              "<style scoped>\n",
              "    .dataframe tbody tr th:only-of-type {\n",
              "        vertical-align: middle;\n",
              "    }\n",
              "\n",
              "    .dataframe tbody tr th {\n",
              "        vertical-align: top;\n",
              "    }\n",
              "\n",
              "    .dataframe thead th {\n",
              "        text-align: right;\n",
              "    }\n",
              "</style>\n",
              "<table border=\"1\" class=\"dataframe\">\n",
              "  <thead>\n",
              "    <tr style=\"text-align: right;\">\n",
              "      <th></th>\n",
              "      <th>cap-diameter</th>\n",
              "      <th>stem-height</th>\n",
              "      <th>stem-width</th>\n",
              "      <th>cap-shape_b</th>\n",
              "      <th>cap-shape_c</th>\n",
              "      <th>cap-shape_f</th>\n",
              "      <th>cap-shape_o</th>\n",
              "      <th>cap-shape_p</th>\n",
              "      <th>cap-shape_s</th>\n",
              "      <th>cap-shape_x</th>\n",
              "      <th>...</th>\n",
              "      <th>habitat_h</th>\n",
              "      <th>habitat_l</th>\n",
              "      <th>habitat_m</th>\n",
              "      <th>habitat_p</th>\n",
              "      <th>habitat_u</th>\n",
              "      <th>habitat_w</th>\n",
              "      <th>season_a</th>\n",
              "      <th>season_s</th>\n",
              "      <th>season_u</th>\n",
              "      <th>season_w</th>\n",
              "    </tr>\n",
              "  </thead>\n",
              "  <tbody>\n",
              "    <tr>\n",
              "      <th>0</th>\n",
              "      <td>15.26</td>\n",
              "      <td>16.95</td>\n",
              "      <td>17.09</td>\n",
              "      <td>False</td>\n",
              "      <td>False</td>\n",
              "      <td>False</td>\n",
              "      <td>False</td>\n",
              "      <td>False</td>\n",
              "      <td>False</td>\n",
              "      <td>True</td>\n",
              "      <td>...</td>\n",
              "      <td>False</td>\n",
              "      <td>False</td>\n",
              "      <td>False</td>\n",
              "      <td>False</td>\n",
              "      <td>False</td>\n",
              "      <td>False</td>\n",
              "      <td>False</td>\n",
              "      <td>False</td>\n",
              "      <td>False</td>\n",
              "      <td>True</td>\n",
              "    </tr>\n",
              "    <tr>\n",
              "      <th>1</th>\n",
              "      <td>16.60</td>\n",
              "      <td>17.99</td>\n",
              "      <td>18.19</td>\n",
              "      <td>False</td>\n",
              "      <td>False</td>\n",
              "      <td>False</td>\n",
              "      <td>False</td>\n",
              "      <td>False</td>\n",
              "      <td>False</td>\n",
              "      <td>True</td>\n",
              "      <td>...</td>\n",
              "      <td>False</td>\n",
              "      <td>False</td>\n",
              "      <td>False</td>\n",
              "      <td>False</td>\n",
              "      <td>False</td>\n",
              "      <td>False</td>\n",
              "      <td>False</td>\n",
              "      <td>False</td>\n",
              "      <td>True</td>\n",
              "      <td>False</td>\n",
              "    </tr>\n",
              "    <tr>\n",
              "      <th>2</th>\n",
              "      <td>14.07</td>\n",
              "      <td>17.80</td>\n",
              "      <td>17.74</td>\n",
              "      <td>False</td>\n",
              "      <td>False</td>\n",
              "      <td>False</td>\n",
              "      <td>False</td>\n",
              "      <td>False</td>\n",
              "      <td>False</td>\n",
              "      <td>True</td>\n",
              "      <td>...</td>\n",
              "      <td>False</td>\n",
              "      <td>False</td>\n",
              "      <td>False</td>\n",
              "      <td>False</td>\n",
              "      <td>False</td>\n",
              "      <td>False</td>\n",
              "      <td>False</td>\n",
              "      <td>False</td>\n",
              "      <td>False</td>\n",
              "      <td>True</td>\n",
              "    </tr>\n",
              "    <tr>\n",
              "      <th>3</th>\n",
              "      <td>14.17</td>\n",
              "      <td>15.77</td>\n",
              "      <td>15.98</td>\n",
              "      <td>False</td>\n",
              "      <td>False</td>\n",
              "      <td>True</td>\n",
              "      <td>False</td>\n",
              "      <td>False</td>\n",
              "      <td>False</td>\n",
              "      <td>False</td>\n",
              "      <td>...</td>\n",
              "      <td>False</td>\n",
              "      <td>False</td>\n",
              "      <td>False</td>\n",
              "      <td>False</td>\n",
              "      <td>False</td>\n",
              "      <td>False</td>\n",
              "      <td>False</td>\n",
              "      <td>False</td>\n",
              "      <td>False</td>\n",
              "      <td>True</td>\n",
              "    </tr>\n",
              "    <tr>\n",
              "      <th>4</th>\n",
              "      <td>14.64</td>\n",
              "      <td>16.53</td>\n",
              "      <td>17.20</td>\n",
              "      <td>False</td>\n",
              "      <td>False</td>\n",
              "      <td>False</td>\n",
              "      <td>False</td>\n",
              "      <td>False</td>\n",
              "      <td>False</td>\n",
              "      <td>True</td>\n",
              "      <td>...</td>\n",
              "      <td>False</td>\n",
              "      <td>False</td>\n",
              "      <td>False</td>\n",
              "      <td>False</td>\n",
              "      <td>False</td>\n",
              "      <td>False</td>\n",
              "      <td>False</td>\n",
              "      <td>False</td>\n",
              "      <td>False</td>\n",
              "      <td>True</td>\n",
              "    </tr>\n",
              "  </tbody>\n",
              "</table>\n",
              "<p>5 rows × 89 columns</p>\n",
              "</div>\n",
              "    <div class=\"colab-df-buttons\">\n",
              "\n",
              "  <div class=\"colab-df-container\">\n",
              "    <button class=\"colab-df-convert\" onclick=\"convertToInteractive('df-9a2de691-a9e9-479c-83d3-59903b168b01')\"\n",
              "            title=\"Convert this dataframe to an interactive table.\"\n",
              "            style=\"display:none;\">\n",
              "\n",
              "  <svg xmlns=\"http://www.w3.org/2000/svg\" height=\"24px\" viewBox=\"0 -960 960 960\">\n",
              "    <path d=\"M120-120v-720h720v720H120Zm60-500h600v-160H180v160Zm220 220h160v-160H400v160Zm0 220h160v-160H400v160ZM180-400h160v-160H180v160Zm440 0h160v-160H620v160ZM180-180h160v-160H180v160Zm440 0h160v-160H620v160Z\"/>\n",
              "  </svg>\n",
              "    </button>\n",
              "\n",
              "  <style>\n",
              "    .colab-df-container {\n",
              "      display:flex;\n",
              "      gap: 12px;\n",
              "    }\n",
              "\n",
              "    .colab-df-convert {\n",
              "      background-color: #E8F0FE;\n",
              "      border: none;\n",
              "      border-radius: 50%;\n",
              "      cursor: pointer;\n",
              "      display: none;\n",
              "      fill: #1967D2;\n",
              "      height: 32px;\n",
              "      padding: 0 0 0 0;\n",
              "      width: 32px;\n",
              "    }\n",
              "\n",
              "    .colab-df-convert:hover {\n",
              "      background-color: #E2EBFA;\n",
              "      box-shadow: 0px 1px 2px rgba(60, 64, 67, 0.3), 0px 1px 3px 1px rgba(60, 64, 67, 0.15);\n",
              "      fill: #174EA6;\n",
              "    }\n",
              "\n",
              "    .colab-df-buttons div {\n",
              "      margin-bottom: 4px;\n",
              "    }\n",
              "\n",
              "    [theme=dark] .colab-df-convert {\n",
              "      background-color: #3B4455;\n",
              "      fill: #D2E3FC;\n",
              "    }\n",
              "\n",
              "    [theme=dark] .colab-df-convert:hover {\n",
              "      background-color: #434B5C;\n",
              "      box-shadow: 0px 1px 3px 1px rgba(0, 0, 0, 0.15);\n",
              "      filter: drop-shadow(0px 1px 2px rgba(0, 0, 0, 0.3));\n",
              "      fill: #FFFFFF;\n",
              "    }\n",
              "  </style>\n",
              "\n",
              "    <script>\n",
              "      const buttonEl =\n",
              "        document.querySelector('#df-9a2de691-a9e9-479c-83d3-59903b168b01 button.colab-df-convert');\n",
              "      buttonEl.style.display =\n",
              "        google.colab.kernel.accessAllowed ? 'block' : 'none';\n",
              "\n",
              "      async function convertToInteractive(key) {\n",
              "        const element = document.querySelector('#df-9a2de691-a9e9-479c-83d3-59903b168b01');\n",
              "        const dataTable =\n",
              "          await google.colab.kernel.invokeFunction('convertToInteractive',\n",
              "                                                    [key], {});\n",
              "        if (!dataTable) return;\n",
              "\n",
              "        const docLinkHtml = 'Like what you see? Visit the ' +\n",
              "          '<a target=\"_blank\" href=https://colab.research.google.com/notebooks/data_table.ipynb>data table notebook</a>'\n",
              "          + ' to learn more about interactive tables.';\n",
              "        element.innerHTML = '';\n",
              "        dataTable['output_type'] = 'display_data';\n",
              "        await google.colab.output.renderOutput(dataTable, element);\n",
              "        const docLink = document.createElement('div');\n",
              "        docLink.innerHTML = docLinkHtml;\n",
              "        element.appendChild(docLink);\n",
              "      }\n",
              "    </script>\n",
              "  </div>\n",
              "\n",
              "\n",
              "    <div id=\"df-13c7b331-8c85-4571-af75-b9ed8b628fde\">\n",
              "      <button class=\"colab-df-quickchart\" onclick=\"quickchart('df-13c7b331-8c85-4571-af75-b9ed8b628fde')\"\n",
              "                title=\"Suggest charts\"\n",
              "                style=\"display:none;\">\n",
              "\n",
              "<svg xmlns=\"http://www.w3.org/2000/svg\" height=\"24px\"viewBox=\"0 0 24 24\"\n",
              "     width=\"24px\">\n",
              "    <g>\n",
              "        <path d=\"M19 3H5c-1.1 0-2 .9-2 2v14c0 1.1.9 2 2 2h14c1.1 0 2-.9 2-2V5c0-1.1-.9-2-2-2zM9 17H7v-7h2v7zm4 0h-2V7h2v10zm4 0h-2v-4h2v4z\"/>\n",
              "    </g>\n",
              "</svg>\n",
              "      </button>\n",
              "\n",
              "<style>\n",
              "  .colab-df-quickchart {\n",
              "      --bg-color: #E8F0FE;\n",
              "      --fill-color: #1967D2;\n",
              "      --hover-bg-color: #E2EBFA;\n",
              "      --hover-fill-color: #174EA6;\n",
              "      --disabled-fill-color: #AAA;\n",
              "      --disabled-bg-color: #DDD;\n",
              "  }\n",
              "\n",
              "  [theme=dark] .colab-df-quickchart {\n",
              "      --bg-color: #3B4455;\n",
              "      --fill-color: #D2E3FC;\n",
              "      --hover-bg-color: #434B5C;\n",
              "      --hover-fill-color: #FFFFFF;\n",
              "      --disabled-bg-color: #3B4455;\n",
              "      --disabled-fill-color: #666;\n",
              "  }\n",
              "\n",
              "  .colab-df-quickchart {\n",
              "    background-color: var(--bg-color);\n",
              "    border: none;\n",
              "    border-radius: 50%;\n",
              "    cursor: pointer;\n",
              "    display: none;\n",
              "    fill: var(--fill-color);\n",
              "    height: 32px;\n",
              "    padding: 0;\n",
              "    width: 32px;\n",
              "  }\n",
              "\n",
              "  .colab-df-quickchart:hover {\n",
              "    background-color: var(--hover-bg-color);\n",
              "    box-shadow: 0 1px 2px rgba(60, 64, 67, 0.3), 0 1px 3px 1px rgba(60, 64, 67, 0.15);\n",
              "    fill: var(--button-hover-fill-color);\n",
              "  }\n",
              "\n",
              "  .colab-df-quickchart-complete:disabled,\n",
              "  .colab-df-quickchart-complete:disabled:hover {\n",
              "    background-color: var(--disabled-bg-color);\n",
              "    fill: var(--disabled-fill-color);\n",
              "    box-shadow: none;\n",
              "  }\n",
              "\n",
              "  .colab-df-spinner {\n",
              "    border: 2px solid var(--fill-color);\n",
              "    border-color: transparent;\n",
              "    border-bottom-color: var(--fill-color);\n",
              "    animation:\n",
              "      spin 1s steps(1) infinite;\n",
              "  }\n",
              "\n",
              "  @keyframes spin {\n",
              "    0% {\n",
              "      border-color: transparent;\n",
              "      border-bottom-color: var(--fill-color);\n",
              "      border-left-color: var(--fill-color);\n",
              "    }\n",
              "    20% {\n",
              "      border-color: transparent;\n",
              "      border-left-color: var(--fill-color);\n",
              "      border-top-color: var(--fill-color);\n",
              "    }\n",
              "    30% {\n",
              "      border-color: transparent;\n",
              "      border-left-color: var(--fill-color);\n",
              "      border-top-color: var(--fill-color);\n",
              "      border-right-color: var(--fill-color);\n",
              "    }\n",
              "    40% {\n",
              "      border-color: transparent;\n",
              "      border-right-color: var(--fill-color);\n",
              "      border-top-color: var(--fill-color);\n",
              "    }\n",
              "    60% {\n",
              "      border-color: transparent;\n",
              "      border-right-color: var(--fill-color);\n",
              "    }\n",
              "    80% {\n",
              "      border-color: transparent;\n",
              "      border-right-color: var(--fill-color);\n",
              "      border-bottom-color: var(--fill-color);\n",
              "    }\n",
              "    90% {\n",
              "      border-color: transparent;\n",
              "      border-bottom-color: var(--fill-color);\n",
              "    }\n",
              "  }\n",
              "</style>\n",
              "\n",
              "      <script>\n",
              "        async function quickchart(key) {\n",
              "          const quickchartButtonEl =\n",
              "            document.querySelector('#' + key + ' button');\n",
              "          quickchartButtonEl.disabled = true;  // To prevent multiple clicks.\n",
              "          quickchartButtonEl.classList.add('colab-df-spinner');\n",
              "          try {\n",
              "            const charts = await google.colab.kernel.invokeFunction(\n",
              "                'suggestCharts', [key], {});\n",
              "          } catch (error) {\n",
              "            console.error('Error during call to suggestCharts:', error);\n",
              "          }\n",
              "          quickchartButtonEl.classList.remove('colab-df-spinner');\n",
              "          quickchartButtonEl.classList.add('colab-df-quickchart-complete');\n",
              "        }\n",
              "        (() => {\n",
              "          let quickchartButtonEl =\n",
              "            document.querySelector('#df-13c7b331-8c85-4571-af75-b9ed8b628fde button');\n",
              "          quickchartButtonEl.style.display =\n",
              "            google.colab.kernel.accessAllowed ? 'block' : 'none';\n",
              "        })();\n",
              "      </script>\n",
              "    </div>\n",
              "\n",
              "    </div>\n",
              "  </div>\n"
            ],
            "application/vnd.google.colaboratory.intrinsic+json": {
              "type": "dataframe"
            }
          },
          "metadata": {}
        }
      ]
    },
    {
      "cell_type": "markdown",
      "source": [
        "## Treinar modelo com o SVM\n",
        "\n",
        "Agora que preparamos os dados, podemos treinar um modelo com o SVM para detectarmos quando um cogumelo é venenoso ou não baseado nos atributos.\n",
        "\n",
        "Como apagamos algumas linhas na seção Estratégia 2, precisamos criar uma versão da Series de target sem os valores da linhas apagadas também."
      ],
      "metadata": {
        "id": "QkHXTW1atKB3"
      },
      "id": "QkHXTW1atKB3"
    },
    {
      "cell_type": "code",
      "metadata": {
        "id": "734198f9"
      },
      "source": [
        "y_cleaned = y.drop(lines_to_drop, axis=0)"
      ],
      "id": "734198f9",
      "execution_count": 24,
      "outputs": []
    },
    {
      "cell_type": "markdown",
      "source": [
        "Na sequência iremos, separar um conjunto de dados de treino e de teste. Iremos usar a proporção 80/20 entre treinamento e teste."
      ],
      "metadata": {
        "id": "0V_UPb5PvG7o"
      },
      "id": "0V_UPb5PvG7o"
    },
    {
      "cell_type": "code",
      "source": [
        "X_train, X_test, y_train, y_test = train_test_split(encoded_df, y_cleaned, test_size=0.2, random_state=42)\n",
        "\n",
        "print(\"Shape of X_train:\", X_train.shape)\n",
        "print(\"Shape of X_test:\", X_test.shape)\n",
        "print(\"Shape of y_train:\", y_train.shape)\n",
        "print(\"Shape of y_test:\", y_test.shape)"
      ],
      "metadata": {
        "id": "BvSvN5iivEx_",
        "outputId": "e8bd5fac-bcae-406f-b90f-0b90ff007627",
        "colab": {
          "base_uri": "https://localhost:8080/"
        }
      },
      "id": "BvSvN5iivEx_",
      "execution_count": 26,
      "outputs": [
        {
          "output_type": "stream",
          "name": "stdout",
          "text": [
            "Shape of X_train: (46878, 89)\n",
            "Shape of X_test: (11720, 89)\n",
            "Shape of y_train: (46878, 1)\n",
            "Shape of y_test: (11720, 1)\n"
          ]
        }
      ]
    },
    {
      "cell_type": "markdown",
      "source": [
        "Em seguida, iremos treinar o modelo e tirar a matriz do confusão em cima dos dados de treinamento."
      ],
      "metadata": {
        "id": "hjNRA8Cwv9V1"
      },
      "id": "hjNRA8Cwv9V1"
    },
    {
      "cell_type": "code",
      "source": [
        "alg = svm.SVC()\n",
        "model = alg.fit(X_train, y_train)\n",
        "\n",
        "# predição com os mesmos dados usados para treinar\n",
        "y_pred = model.predict(X_train)\n",
        "cm_train = confusion_matrix(y_train, y_pred)\n",
        "print('Matriz de confusão - com os dados usados no TREINAMENTO')\n",
        "print(cm_train)\n",
        "print(classification_report(y_train, y_pred))"
      ],
      "metadata": {
        "id": "efxEt3hiwAwB",
        "outputId": "497d42f9-eafa-4735-9ce6-bcaafa86b439",
        "colab": {
          "base_uri": "https://localhost:8080/"
        }
      },
      "id": "efxEt3hiwAwB",
      "execution_count": 28,
      "outputs": [
        {
          "output_type": "stream",
          "name": "stdout",
          "text": [
            "Matriz de confusão - com os dados usados no TREINAMENTO\n",
            "[[18345  2321]\n",
            " [ 2182 24030]]\n",
            "              precision    recall  f1-score   support\n",
            "\n",
            "           e       0.89      0.89      0.89     20666\n",
            "           p       0.91      0.92      0.91     26212\n",
            "\n",
            "    accuracy                           0.90     46878\n",
            "   macro avg       0.90      0.90      0.90     46878\n",
            "weighted avg       0.90      0.90      0.90     46878\n",
            "\n"
          ]
        }
      ]
    },
    {
      "cell_type": "markdown",
      "source": [
        "Informação importante para uso posterior: do jeito que tá demorou +/- uns 5-10 minutos no google colab para treinar o modelo. Agora vamos validá-lo modelo com os dados de teste."
      ],
      "metadata": {
        "id": "Tj2zRiUZz189"
      },
      "id": "Tj2zRiUZz189"
    },
    {
      "cell_type": "code",
      "source": [
        "# predição com os mesmos dados usados para testar\n",
        "print('Matriz de confusão - com os dados usados para TESTES')\n",
        "y2_pred = model.predict(X_test)\n",
        "cm_test = confusion_matrix(y_test, y2_pred)\n",
        "print(cm_test)\n",
        "print(classification_report(y_test, y2_pred))"
      ],
      "metadata": {
        "id": "cp6io0Vt0GNw",
        "outputId": "930bea99-79ed-4ef5-ea53-a09e1c7b43bc",
        "colab": {
          "base_uri": "https://localhost:8080/"
        }
      },
      "id": "cp6io0Vt0GNw",
      "execution_count": 30,
      "outputs": [
        {
          "output_type": "stream",
          "name": "stdout",
          "text": [
            "Matriz de confusão - com os dados usados para TESTES\n",
            "[[4467  636]\n",
            " [ 557 6060]]\n",
            "              precision    recall  f1-score   support\n",
            "\n",
            "           e       0.89      0.88      0.88      5103\n",
            "           p       0.91      0.92      0.91      6617\n",
            "\n",
            "    accuracy                           0.90     11720\n",
            "   macro avg       0.90      0.90      0.90     11720\n",
            "weighted avg       0.90      0.90      0.90     11720\n",
            "\n"
          ]
        }
      ]
    },
    {
      "cell_type": "markdown",
      "source": [
        "Para os dados de teste os resultados foram 89% de precisão para as detecção de cogumelos comestíveis e 91% para a deteção de cogumelos venenosos. A sensibilidade (recall) para estas classes também foram de 88% e 91% respectivamente, o que justifica os F1-scores elevado.\n",
        "\n",
        "No entanto, ainda cabe mais algumas otimizações no modelo que podem ser feita afim e deixar os dados mais adequados para o treinamento no SVM."
      ],
      "metadata": {
        "id": "TDqNyf3JAl1Y"
      },
      "id": "TDqNyf3JAl1Y"
    },
    {
      "cell_type": "markdown",
      "source": [
        "## Otimização 1 - Adequação da escala dos atributos contínuos\n",
        "\n",
        "Os atributos contínuos cap-diameter (diâmetro do píleo) e stem-height (altura da haste) estão em centímetros, enquanto que o atributo stem-width(largua da haste) estão em milímetros. Para otimizar a performance do algorítmo seria interessante padronizar a dimensão de comprimento deste conjunto de dados para trabalhar tudo com milímetros (mm), ou centímetros (cm). Optamos por alterar os atributos cap-diameter e stem-height para milímetros."
      ],
      "metadata": {
        "id": "VBnL7UBMCwto"
      },
      "id": "VBnL7UBMCwto"
    },
    {
      "cell_type": "code",
      "source": [
        "encoded_df['cap-diameter'] = encoded_df['cap-diameter'] * 10.0\n",
        "encoded_df['stem-height'] = encoded_df['stem-height'] * 10.0\n",
        "\n",
        "print(encoded_df['cap-diameter'].sample(n=3))\n",
        "print(encoded_df['stem-height'].sample(n=3))"
      ],
      "metadata": {
        "id": "cFSrQj_2DjDe",
        "outputId": "d9ef989a-f50d-48d2-8991-c1f5440a189a",
        "colab": {
          "base_uri": "https://localhost:8080/"
        }
      },
      "id": "cFSrQj_2DjDe",
      "execution_count": 32,
      "outputs": [
        {
          "output_type": "stream",
          "name": "stdout",
          "text": [
            "22699    745.0\n",
            "33747    661.0\n",
            "55832    690.0\n",
            "Name: cap-diameter, dtype: float64\n",
            "39630    58.7\n",
            "26420    59.7\n",
            "34476    79.6\n",
            "Name: stem-height, dtype: float64\n"
          ]
        }
      ]
    },
    {
      "cell_type": "markdown",
      "source": [
        "## Otimização 2 - Normalização dos atributos contínuos\n",
        "\n",
        "Os atributos cap-diamater (diâmetro do píleo), stem-height (altura da haste) e stem-width (largura da haste) são dados contínuos que podem ser normalizados ou padronizados para otimizar a execução do SVM. Para decidirmos entre a normalizão ou padronização, vamos tentar validar se os atributos contínuos possuem uma distribuição normal.\n",
        "\n",
        "### Atributo - cap-diameter:"
      ],
      "metadata": {
        "id": "b1Cj0U-vBJhU"
      },
      "id": "b1Cj0U-vBJhU"
    },
    {
      "cell_type": "code",
      "source": [
        "plt.figure(figsize=(12, 5))\n",
        "\n",
        "plt.subplot(1, 2, 1)\n",
        "sns.histplot(encoded_df['cap-diameter'], kde=True, bins=30, color='skyblue')\n",
        "plt.title('Histograma da Coluna \"cap-diameter\"')\n",
        "plt.xlabel('Valor')\n",
        "plt.ylabel('Frequência')\n",
        "plt.tight_layout()\n",
        "plt.show()"
      ],
      "metadata": {
        "id": "KgQH3fyVFMXn",
        "outputId": "c4485747-dc5b-44df-97df-68363d27d0d9",
        "colab": {
          "base_uri": "https://localhost:8080/",
          "height": 507
        }
      },
      "id": "KgQH3fyVFMXn",
      "execution_count": 34,
      "outputs": [
        {
          "output_type": "display_data",
          "data": {
            "text/plain": [
              "<Figure size 1200x500 with 1 Axes>"
            ],
            "image/png": "[encoded data removed]"
          },
          "metadata": {}
        }
      ]
    },
    {
      "cell_type": "markdown",
      "source": [
        "### Atributo stem-height"
      ],
      "metadata": {
        "id": "vWzNlOUQGxpC"
      },
      "id": "vWzNlOUQGxpC"
    },
    {
      "cell_type": "code",
      "source": [
        "plt.figure(figsize=(12, 5))\n",
        "\n",
        "plt.subplot(1, 2, 1)\n",
        "sns.histplot(encoded_df['stem-height'], kde=True, bins=30, color='skyblue')\n",
        "plt.title('Histograma da Coluna \"stem-height\"')\n",
        "plt.xlabel('Valor')\n",
        "plt.ylabel('Frequência')\n",
        "plt.tight_layout()\n",
        "plt.show()"
      ],
      "metadata": {
        "id": "dpQBNl0eF_mE",
        "outputId": "ae772062-0d31-4a27-ee36-866427070a16",
        "colab": {
          "base_uri": "https://localhost:8080/",
          "height": 507
        }
      },
      "id": "dpQBNl0eF_mE",
      "execution_count": 35,
      "outputs": [
        {
          "output_type": "display_data",
          "data": {
            "text/plain": [
              "<Figure size 1200x500 with 1 Axes>"
            ],
            "image/png": "[encoded data removed]"
          },
          "metadata": {}
        }
      ]
    },
    {
      "cell_type": "markdown",
      "source": [
        "### Atributo stem-width"
      ],
      "metadata": {
        "id": "tFKNoI-8G-pF"
      },
      "id": "tFKNoI-8G-pF"
    },
    {
      "cell_type": "code",
      "source": [
        "plt.figure(figsize=(12, 5))\n",
        "\n",
        "plt.subplot(1, 2, 1)\n",
        "sns.histplot(encoded_df['stem-width'], kde=True, bins=30, color='skyblue')\n",
        "plt.title('Histograma da Coluna \"stem-width\"')\n",
        "plt.xlabel('Valor')\n",
        "plt.ylabel('Frequência')\n",
        "plt.tight_layout()\n",
        "plt.show()"
      ],
      "metadata": {
        "id": "V2Dgk7FtHHF8",
        "outputId": "2b9dba5d-ac33-4567-b82f-f2cb25489699",
        "colab": {
          "base_uri": "https://localhost:8080/",
          "height": 507
        }
      },
      "id": "V2Dgk7FtHHF8",
      "execution_count": 36,
      "outputs": [
        {
          "output_type": "display_data",
          "data": {
            "text/plain": [
              "<Figure size 1200x500 with 1 Axes>"
            ],
            "image/png": "[encoded data removed]"
          },
          "metadata": {}
        }
      ]
    },
    {
      "cell_type": "markdown",
      "source": [
        "Em uma análise visual é possível concluir que os atributos cap-diameter e stem-height seguem uma curva que se assemelha a normal (com a presença de poucos outliers). No entanto, o atributo stem-width não possui uma distribuição normal. Então vamos fazer as seguintes transformações nestes dados:\n",
        "\n",
        "* para os atributos cap-diameter e stem-height vamos aplicar o transformador do tipo StandardScaler() para padronizar os dados.\n",
        "* para o atributo stem-width vamos aplicar o transformador MinMaxScaler() para normalizar os dados."
      ],
      "metadata": {
        "id": "hG0eSFe-HQ1_"
      },
      "id": "hG0eSFe-HQ1_"
    },
    {
      "cell_type": "code",
      "source": [
        "scaler_standard = StandardScaler()\n",
        "encoded_df[['cap-diameter', 'stem-height']] = scaler_standard.fit_transform(encoded_df[['cap-diameter', 'stem-height']])\n",
        "\n",
        "scaler_minmax = MinMaxScaler()\n",
        "encoded_df['stem-width'] = scaler_minmax.fit_transform(encoded_df[['stem-width']])"
      ],
      "metadata": {
        "id": "nxSOnllSJ10g"
      },
      "id": "nxSOnllSJ10g",
      "execution_count": 39,
      "outputs": []
    },
    {
      "cell_type": "markdown",
      "source": [
        "# Treinar modelo com o SVM depois das otimizações\n",
        "\n",
        "Depois de feitas estas otimizações, vamos treinar novamente o nosso modelo para detectar se houve melhora no desempenho em comparação ao modelo treinado com os dados fora de escala e desnormalizados."
      ],
      "metadata": {
        "id": "WcfD1VbcK3Ly"
      },
      "id": "WcfD1VbcK3Ly"
    },
    {
      "cell_type": "code",
      "source": [
        "X_train, X_test, y_train, y_test = train_test_split(encoded_df, y_cleaned, test_size=0.2, random_state=42)\n",
        "\n",
        "print(\"Shape of X_train:\", X_train.shape)\n",
        "print(\"Shape of X_test:\", X_test.shape)\n",
        "print(\"Shape of y_train:\", y_train.shape)\n",
        "print(\"Shape of y_test:\", y_test.shape)"
      ],
      "metadata": {
        "id": "j0UUG6AYLW_J",
        "outputId": "1a02dd63-d7d6-4a99-b34a-5f951cc274ba",
        "colab": {
          "base_uri": "https://localhost:8080/"
        }
      },
      "id": "j0UUG6AYLW_J",
      "execution_count": 42,
      "outputs": [
        {
          "output_type": "stream",
          "name": "stdout",
          "text": [
            "Shape of X_train: (46878, 89)\n",
            "Shape of X_test: (11720, 89)\n",
            "Shape of y_train: (46878, 1)\n",
            "Shape of y_test: (11720, 1)\n"
          ]
        }
      ]
    },
    {
      "cell_type": "code",
      "source": [
        "alg = svm.SVC()\n",
        "model = alg.fit(X_train, y_train)\n",
        "\n",
        "# predição com os mesmos dados usados para treinar\n",
        "y_pred = model.predict(X_train)\n",
        "cm_train = confusion_matrix(y_train, y_pred)\n",
        "print('Matriz de confusão - com os dados OTIMIZADOS usados no TREINAMENTO')\n",
        "print(cm_train)\n",
        "print(classification_report(y_train, y_pred))"
      ],
      "metadata": {
        "id": "ldz18qwQMBUu",
        "outputId": "d74bb79b-6b25-4208-d897-ad14cab758eb",
        "colab": {
          "base_uri": "https://localhost:8080/"
        }
      },
      "id": "ldz18qwQMBUu",
      "execution_count": 43,
      "outputs": [
        {
          "output_type": "stream",
          "name": "stdout",
          "text": [
            "Matriz de confusão - com os dados OTIMIZADOS usados no TREINAMENTO\n",
            "[[20505   161]\n",
            " [   60 26152]]\n",
            "              precision    recall  f1-score   support\n",
            "\n",
            "           e       1.00      0.99      0.99     20666\n",
            "           p       0.99      1.00      1.00     26212\n",
            "\n",
            "    accuracy                           1.00     46878\n",
            "   macro avg       1.00      0.99      1.00     46878\n",
            "weighted avg       1.00      1.00      1.00     46878\n",
            "\n"
          ]
        }
      ]
    },
    {
      "cell_type": "markdown",
      "source": [
        "Curiosidade: O modelo treinou entre 2 e 5 minutos, sinal que o SVM convergiu mais rápido desta vez graças a normalização dos dados."
      ],
      "metadata": {
        "id": "6IuQgyCaM2hg"
      },
      "id": "6IuQgyCaM2hg"
    },
    {
      "cell_type": "code",
      "source": [
        "# predição com os mesmos dados usados para testar\n",
        "print('Matriz de confusão - com os dados OTIMIZADOS usados para TESTES')\n",
        "y2_pred = model.predict(X_test)\n",
        "cm_test = confusion_matrix(y_test, y2_pred)\n",
        "print(cm_test)\n",
        "print(classification_report(y_test, y2_pred))"
      ],
      "metadata": {
        "id": "u_LY33h5Muol",
        "outputId": "be15a410-214e-4c6f-9d0a-2e71fa2a0bdc",
        "colab": {
          "base_uri": "https://localhost:8080/"
        }
      },
      "id": "u_LY33h5Muol",
      "execution_count": 44,
      "outputs": [
        {
          "output_type": "stream",
          "name": "stdout",
          "text": [
            "Matriz de confusão - com os dados OTIMIZADOS usados para TESTES\n",
            "[[5074   29]\n",
            " [  19 6598]]\n",
            "              precision    recall  f1-score   support\n",
            "\n",
            "           e       1.00      0.99      1.00      5103\n",
            "           p       1.00      1.00      1.00      6617\n",
            "\n",
            "    accuracy                           1.00     11720\n",
            "   macro avg       1.00      1.00      1.00     11720\n",
            "weighted avg       1.00      1.00      1.00     11720\n",
            "\n"
          ]
        }
      ]
    },
    {
      "cell_type": "markdown",
      "source": [
        "# Conclusão\n",
        "\n",
        "Deu para perceber que as otimizações contribuiram bastante para a performance do modelo.\n",
        "\n",
        "Das 5103 amostras de cogumelos comestíveis, o modelo previu corretamente 5074 amostras corretamente e julgou 29 cogumelos seguros como venenosos, com uma acurácia de 99,43% de acerto.\n",
        "\n",
        "Das 6617 amostras de cogumelos venenosos, o modelo previu corretamente 6598 amostras corretamente e julgou 19 cogumelos venenosos como seguros, com uma acurácia de 99,71% de acerto.\n",
        "\n",
        "Comparado com o modelo anterior, houve um aumento de 10 pontos percentuais de acurácia para detecção de cogumelos seguros para comer e de 8 pontos percentuais para detecção de cogumelos venenosos."
      ],
      "metadata": {
        "id": "fnWRFfCOOLAZ"
      },
      "id": "fnWRFfCOOLAZ"
    }
  ],
  "metadata": {
    "kernelspec": {
      "display_name": "Python 3",
      "language": "python",
      "name": "python3"
    },
    "language_info": {
      "codemirror_mode": {
        "name": "ipython",
        "version": 2
      },
      "file_extension": ".py",
      "mimetype": "text/x-python",
      "name": "python",
      "nbconvert_exporter": "python",
      "pygments_lexer": "ipython2",
      "version": "2.7.6"
    },
    "colab": {
      "provenance": [],
      "include_colab_link": true
    }
  },
  "nbformat": 4,
  "nbformat_minor": 5
}