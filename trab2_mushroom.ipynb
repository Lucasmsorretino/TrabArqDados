{
 "cells": [
  {
   "metadata": {},
   "cell_type": "markdown",
   "source": [
    "# Atividade 02 - melhorar o desempenho de RP em conjunto de dados existentes\n",
    "\n",
    "A atividade 02 visa trabalhar com um conjunto de dados pré-construído, onde as opções que o desenvolvedor tem, são de aplicar as técnicas de pré-processamento abaixo relacionadas:\n"
   ],
   "id": "1e0c5d1e13cc97f3"
  },
  {
   "metadata": {},
   "cell_type": "markdown",
   "source": [
    "Base de dados escolhida: Secondary Mushroom\n",
    "Link: https://archive.ics.uci.edu/dataset/848/secondary+mushroom+dataset\n",
    "\n",
    "Sobre a base de dados:\n",
    "\n",
    "Esta base de dados foi criada com a finalidade de simular e fornecer um conjunto de dados maior e mais variado de cogumelos hipotéticos para tarefas de aprendizado de máquina e análise de dados, inspirado não Conjunto de Dados de Cogumelos original de J. Schlimmer.\n",
    "\n",
    "url:https://archive.ics.uci.edu/ml/datasets/Mushroom.\n",
    "\n",
    "Este conjunto de dados inclui 61069 cogumelos hipotéticos com Píleo (chapéus do cogumelo) baseado em 173 espécies (353 cogumelos por espécie). Cada cogumelo é identificado como definitivamente comestível, definitivamente venenoso ou com classificação duvidosa e não recomendado para consumo (esta última classe combinada com a classe de cogumelos venenosos)."
   ],
   "id": "5455a7e7d70fe5b8"
  },
  {
   "metadata": {},
   "cell_type": "markdown",
   "source": [
    "Descrição dos dados:\n",
    "\n",
    "| Variável             | Papel     | Tipo       | Descrição                         | Unidade | Valores ausentes |\n",
    "|----------------------|-----------|------------|-----------------------------------|---------|------------------|\n",
    "| class                | Classe    | Categórico | Target (p venenoso, e comestível) | -       | não              |\n",
    "| cap-diameter         | Atributo  | Contínuo   | diâmetro do píleo                 | cm      | não              |\n",
    "| cap-shape            | Atributo  | Categórico | formato do píleo                  | -       | não              |\n",
    "| cap-surface          | Atributo  | Categórico | superfície do píleo               | -       | sim              |\n",
    "| cap-color            | Atributo  | Categórico | cor do píleo                      | -       | não              |\n",
    "| does-bruise-or-bleed | Atributo  | Categórico | cogumelo machuca ou sangra        | -       | não              |\n",
    "| gill-attachment      | Atributo  | Categórico | posição da lamela                 | -       | sim              |\n",
    "| gill-spacing         | Atributo  | Categórico | espaçamento da lamela             | -       | sim              |\n",
    "| gill-color           | Atributo  | Categórico | cor da lamela                     | -       | não              |\n",
    "| stem-height          | Atributo | Contínuo   | altura da haste                   | cm      | não              |\n",
    "| stem-width           | Atributo | Categórico | largura da haste                  | mm      | não              |\n",
    "| stem-root            | Atributo | Categórico | tipo de raíz                      | -       | sim              |\n",
    "| stem-surface         | Atributo | Categórico | superfície da haste               | -       | sim              |\n",
    "| stem-color           | Atributo | Categórico | cor da haste                      | -       | não              |\n",
    "| veil-type            | Atributo | Categórico | tipo de véu                       | -       | sim              |\n",
    "| veil-color           | Atributo | Categórico | cor do véu                        | -       | sim              |\n",
    "| has-ring             | Atributo | Categórico | possuie anel                      | -       | não              |\n",
    "| ring-type            | Atributo | Categórico | tipo de anel                      | -       | sim              |\n",
    "| spore-print-color    | Atributo | Categórico | cor da marca de esporos           | -       | sim              |\n",
    "| habitat              | Atributo | Categórico | habitat (onde cresce)             | -       | não              |\n",
    "| season               | Atributo | Categórico | estação do ano                    | -       | não              |"
   ],
   "id": "2303774e79983552"
  },
  {
   "cell_type": "code",
   "id": "initial_id",
   "metadata": {
    "collapsed": true,
    "ExecuteTime": {
     "end_time": "2025-06-19T23:07:43.625496Z",
     "start_time": "2025-06-19T23:06:41.153582Z"
    }
   },
   "source": [
    "from ucimlrepo import fetch_ucirepo\n",
    "\n",
    "# fetch dataset\n",
    "secondary_mushroom = fetch_ucirepo(id=848)\n",
    "\n",
    "# data (as pandas dataframes)\n",
    "X = secondary_mushroom.data.features\n",
    "y = secondary_mushroom.data.targets\n",
    "\n",
    "print(secondary_mushroom.data.original.head())"
   ],
   "outputs": [
    {
     "name": "stdout",
     "output_type": "stream",
     "text": [
      "  class  cap-diameter cap-shape cap-surface cap-color does-bruise-or-bleed  \\\n",
      "0     p         15.26         x           g         o                    f   \n",
      "1     p         16.60         x           g         o                    f   \n",
      "2     p         14.07         x           g         o                    f   \n",
      "3     p         14.17         f           h         e                    f   \n",
      "4     p         14.64         x           h         o                    f   \n",
      "\n",
      "  gill-attachment gill-spacing gill-color  stem-height  ...  stem-root  \\\n",
      "0               e          NaN          w        16.95  ...          s   \n",
      "1               e          NaN          w        17.99  ...          s   \n",
      "2               e          NaN          w        17.80  ...          s   \n",
      "3               e          NaN          w        15.77  ...          s   \n",
      "4               e          NaN          w        16.53  ...          s   \n",
      "\n",
      "  stem-surface stem-color veil-type veil-color has-ring ring-type  \\\n",
      "0            y          w         u          w        t         g   \n",
      "1            y          w         u          w        t         g   \n",
      "2            y          w         u          w        t         g   \n",
      "3            y          w         u          w        t         p   \n",
      "4            y          w         u          w        t         p   \n",
      "\n",
      "  spore-print-color habitat season  \n",
      "0               NaN       d      w  \n",
      "1               NaN       d      u  \n",
      "2               NaN       d      w  \n",
      "3               NaN       d      w  \n",
      "4               NaN       d      w  \n",
      "\n",
      "[5 rows x 21 columns]\n"
     ]
    }
   ],
   "execution_count": 2
  },
  {
   "metadata": {
    "ExecuteTime": {
     "end_time": "2025-06-19T23:07:59.282882Z",
     "start_time": "2025-06-19T23:07:58.631213Z"
    }
   },
   "cell_type": "code",
   "source": [
    "len(secondary_mushroom.data.original)\n",
    "# Vai precisar:\n",
    "# codificação\n",
    "# limpeza ?\n",
    "# normalização maybe\n",
    "# coreeção de prevaência, 27k de comestivel contra 33 de venenoso\n",
    "y.value_counts()"
   ],
   "id": "68bbba12e39bdfd0",
   "outputs": [
    {
     "data": {
      "text/plain": [
       "class\n",
       "p        33888\n",
       "e        27181\n",
       "Name: count, dtype: int64"
      ]
     },
     "execution_count": 3,
     "metadata": {},
     "output_type": "execute_result"
    }
   ],
   "execution_count": 3
  },
  {
   "metadata": {},
   "cell_type": "markdown",
   "source": [
    "## Considerações sobre a característica dos dados:\n",
    "\n",
    "* A grande maioria dos atributos são do tipo nominal. Logo será necessário aplicar a técnica de codificação para usar em algorítmos de ML tais como o SVM.\n",
    "* Alguns atributos possuem valores faltantes em uma proporção significativa. Nos casos em que a quantidade excede os 40%, adotaremos uma estratégia para eliminar a feature do modelo. Segue abaixo a taxa de proporção de dados faltantes para os atributos marcados como portadores de NaN."
   ],
   "id": "287284d36487c0c7"
  },
  {
   "metadata": {
    "ExecuteTime": {
     "end_time": "2025-06-19T23:09:17.459337Z",
     "start_time": "2025-06-19T23:09:17.212297Z"
    }
   },
   "cell_type": "code",
   "source": [
    "total_samples = X.shape[0]\n",
    "attributes_with_missing_values = ['cap-surface', 'gill-attachment', 'gill-spacing', 'stem-root', 'stem-surface', 'veil-type', 'veil-color', 'ring-type', 'spore-print-color']\n",
    "for attribute in attributes_with_missing_values:\n",
    "    print(f\"Attribute: {attribute} has {(X[attribute].isna().sum() / total_samples)*100:.2f}% missing values\")"
   ],
   "id": "9f47c0db681960f9",
   "outputs": [
    {
     "name": "stdout",
     "output_type": "stream",
     "text": [
      "Attribute: cap-surface has 23.12% missing values\n",
      "Attribute: gill-attachment has 16.18% missing values\n",
      "Attribute: gill-spacing has 41.04% missing values\n",
      "Attribute: stem-root has 84.39% missing values\n",
      "Attribute: stem-surface has 62.43% missing values\n",
      "Attribute: veil-type has 94.80% missing values\n",
      "Attribute: veil-color has 87.86% missing values\n",
      "Attribute: ring-type has 4.05% missing values\n",
      "Attribute: spore-print-color has 89.60% missing values\n"
     ]
    }
   ],
   "execution_count": 4
  },
  {
   "metadata": {},
   "cell_type": "markdown",
   "source": [
    "### Estratégia 1 - Eliminar atributos com taxa elevada de dados faltantes\n",
    "\n",
    "Neste caso, optamos por eliminar os seguintes atributos do modelo por entender que estes agregam pouca informação:\n",
    "1. veil-type\n",
    "2. veil-color\n",
    "3. spore-print-color\n",
    "4. stem-root\n",
    "5. stem-surface\n",
    "6. gill-spacing\n",
    "\n",
    "Como todos eles são nominais, fica um tanto complexo substituir por valores como média e mediana. Substituir estes pela moda ou valores aleatórios também não parece fazer sentido para estes atributos."
   ],
   "id": "2b2e33df07f8eaf7"
  },
  {
   "metadata": {
    "ExecuteTime": {
     "end_time": "2025-06-19T23:14:03.857438Z",
     "start_time": "2025-06-19T23:14:03.202495Z"
    }
   },
   "cell_type": "code",
   "source": [
    "columns_to_drop = ['veil-type', 'veil-color', 'spore-print-color', 'stem-root', 'stem-surface', 'gill-spacing']\n",
    "cleaned_df = X.drop(columns=columns_to_drop)"
   ],
   "id": "b4bd255b5de86880",
   "outputs": [],
   "execution_count": 6
  },
  {
   "metadata": {},
   "cell_type": "markdown",
   "source": [
    "## Estratégia 2 - Eliminar linhas com atributos faltantes\n",
    "\n",
    "Como o atributo ring-type possui dados faltantes em < 5% dos amostras, podemos eliminar as linhas que possuem esta coluna incompleta do modelo"
   ],
   "id": "337189109fde133"
  },
  {
   "metadata": {
    "ExecuteTime": {
     "end_time": "2025-06-19T23:31:57.394271Z",
     "start_time": "2025-06-19T23:31:57.033840Z"
    }
   },
   "cell_type": "code",
   "source": [
    "lines_to_drop = cleaned_df[cleaned_df['ring-type'].isna()].index\n",
    "cleaned_df = cleaned_df.drop(lines_to_drop, axis=0)"
   ],
   "id": "c7352ee855dd435c",
   "outputs": [],
   "execution_count": 11
  },
  {
   "metadata": {},
   "cell_type": "markdown",
   "source": [
    "## Estratégia 3 - Fazer inputação de dados faltantes entre (15% e 25%) de informações faltantes\n",
    "\n",
    "Agora que os atributos com excesso de dados faltantes foram eliminados e os registros com atributos ring-type faltantes foram eliminados, optamos por fazer a inputação de dados nos atributos cap-surface e gill-attachment, com 23% e 16% de valores ausentes respectivamente. Optamos por preencher os dados faltantes de cada atributo pela moda de cada um deles."
   ],
   "id": "9175ccadd20fcaa6"
  },
  {
   "metadata": {
    "ExecuteTime": {
     "end_time": "2025-06-19T23:53:21.422650Z",
     "start_time": "2025-06-19T23:53:21.093489Z"
    }
   },
   "cell_type": "code",
   "source": [
    "mode_cap_surface = cleaned_df['cap-surface'].mode()\n",
    "mode_gill_attachment = cleaned_df['gill-attachment'].mode()\n",
    "print(f\"mode_cap_surface is unique? {len(mode_cap_surface) == 1}. Values is(are): {mode_cap_surface}\")\n",
    "print(f\"mode_gill_attachment is unique? {len(mode_gill_attachment) == 1}. Values is(are): {mode_gill_attachment}\")"
   ],
   "id": "ea2872ac8e2ddf0b",
   "outputs": [
    {
     "name": "stdout",
     "output_type": "stream",
     "text": [
      "mode_cap_surface is unique? True. Values is(are): 0    t\n",
      "Name: cap-surface, dtype: object\n",
      "mode_gill_attachment is unique? True. Valus is(are): 0    a\n",
      "Name: gill-attachment, dtype: object\n"
     ]
    }
   ],
   "execution_count": 18
  }
 ],
 "metadata": {
  "kernelspec": {
   "display_name": "Python 3",
   "language": "python",
   "name": "python3"
  },
  "language_info": {
   "codemirror_mode": {
    "name": "ipython",
    "version": 2
   },
   "file_extension": ".py",
   "mimetype": "text/x-python",
   "name": "python",
   "nbconvert_exporter": "python",
   "pygments_lexer": "ipython2",
   "version": "2.7.6"
  }
 },
 "nbformat": 4,
 "nbformat_minor": 5
}
